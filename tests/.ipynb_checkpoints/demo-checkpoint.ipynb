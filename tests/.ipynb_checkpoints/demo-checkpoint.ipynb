{
 "cells": [
  {
   "cell_type": "code",
   "execution_count": 1,
   "metadata": {
    "ExecuteTime": {
     "end_time": "2023-10-29T10:30:26.336298Z",
     "start_time": "2023-10-29T10:29:50.093379Z"
    }
   },
   "outputs": [],
   "source": [
    "import sys\n",
    "import torch\n",
    "import pickle\n",
    "from glob import glob\n",
    "import pytorch_lightning as pl"
   ]
  },
  {
   "cell_type": "code",
   "execution_count": 2,
   "metadata": {
    "ExecuteTime": {
     "end_time": "2023-10-29T10:30:39.588964Z",
     "start_time": "2023-10-29T10:30:26.343067Z"
    }
   },
   "outputs": [
    {
     "name": "stderr",
     "output_type": "stream",
     "text": [
      "/gpfs02/work/akira.tokiwa/gpgpu/anaconda3/envs/pylit/lib/python3.10/site-packages/tqdm/auto.py:22: TqdmWarning: IProgress not found. Please update jupyter and ipywidgets. See https://ipywidgets.readthedocs.io/en/stable/user_install.html\n",
      "  from .autonotebook import tqdm as notebook_tqdm\n"
     ]
    }
   ],
   "source": [
    "sys.path.append('/gpfs02/work/akira.tokiwa/gpgpu/Github/SR-SPHERE/scripts')\n",
    "from diffusion.diffusionclass import Diffusion\n",
    "from diffusion.schedules import TimestepSampler, linear_beta_schedule\n",
    "from diffusion.ResUnet_timeembed import Unet\n",
    "from maploader.maploader import get_data, get_minmaxnormalized_data, get_loaders, MapDataset\n",
    "from utils.filter_boost import filter_boost, calculate_k, batch_filter_boost\n",
    "from utils.run_utils import initialize_config, setup_trainer"
   ]
  },
  {
   "cell_type": "code",
   "execution_count": 3,
   "metadata": {
    "ExecuteTime": {
     "end_time": "2023-10-29T10:30:39.756909Z",
     "start_time": "2023-10-29T10:30:39.594422Z"
    }
   },
   "outputs": [
    {
     "name": "stderr",
     "output_type": "stream",
     "text": [
      "[rank: 0] Global seed set to 1234\n"
     ]
    }
   ],
   "source": [
    "config_file = \"/gpfs02/work/akira.tokiwa/gpgpu/Github/SR-SPHERE/config/config_diffusion.yaml\"\n",
    "config_dict = initialize_config(config_file)\n",
    "\n",
    "pl.seed_everything(1234)\n",
    "\n",
    "### get training data\n",
    "lrmaps_dir = \"/gpfs02/work/akira.tokiwa/gpgpu/FastPM/healpix/nc128/\"\n",
    "hrmaps_dir = \"/gpfs02/work/akira.tokiwa/gpgpu/FastPM/healpix/nc256/\"\n",
    "n_maps = len(glob(lrmaps_dir + \"*.fits\"))\n",
    "nside = 512\n",
    "order = 4\n",
    "\n",
    "CONDITIONAL = True\n",
    "BATCH_SIZE = 24\n",
    "TRAIN_SPLIT = 0.8\n",
    "\n",
    "config_dict['train']['batch_size'] = BATCH_SIZE\n",
    "config_dict[\"data\"][\"conditional\"] = CONDITIONAL"
   ]
  },
  {
   "cell_type": "code",
   "execution_count": 4,
   "metadata": {},
   "outputs": [],
   "source": [
    "dataset_lr = MapDataset(lrmaps_dir, n_maps, nside, order)\n",
    "dataset_hr = MapDataset(hrmaps_dir, n_maps, nside, order)"
   ]
  },
  {
   "cell_type": "code",
   "execution_count": 4,
   "metadata": {
    "ExecuteTime": {
     "end_time": "2023-10-29T10:31:16.765446Z",
     "start_time": "2023-10-29T10:30:39.762329Z"
    }
   },
   "outputs": [
    {
     "name": "stdout",
     "output_type": "stream",
     "text": [
      "LR data loaded. min: 0.0, max: 2.0128371715545654\n",
      "HR data loaded. min: 0.0, max: 2.903632402420044\n"
     ]
    }
   ],
   "source": [
    "lr = get_data(lrmaps_dir, n_maps, nside, order, issplit=False)\n",
    "hr = get_data(hrmaps_dir, n_maps, nside, order, issplit=False)\n",
    "\n",
    "lr, inverse_transforms_lr, range_min_lr, range_max_lr = get_minmaxnormalized_data(lr)\n",
    "print(\"LR data loaded. min: {}, max: {}\".format(range_min_lr, range_max_lr))\n",
    "\n",
    "hr, inverse_transforms_hr, range_min_hr, range_max_hr = get_minmaxnormalized_data(hr)\n",
    "print(\"HR data loaded. min: {}, max: {}\".format(range_min_hr, range_max_hr))\n",
    "\n",
    "data_input, data_condition = hr-lr, lr\n",
    "train_loader, val_loader = get_loaders(data_input, data_condition, TRAIN_SPLIT, BATCH_SIZE)"
   ]
  },
  {
   "cell_type": "code",
   "execution_count": null,
   "metadata": {},
   "outputs": [],
   "source": []
  }
 ],
 "metadata": {
  "kernelspec": {
   "display_name": "Python 3 (ipykernel)",
   "language": "python",
   "name": "python3"
  },
  "language_info": {
   "codemirror_mode": {
    "name": "ipython",
    "version": 3
   },
   "file_extension": ".py",
   "mimetype": "text/x-python",
   "name": "python",
   "nbconvert_exporter": "python",
   "pygments_lexer": "ipython3",
   "version": "3.10.9"
  },
  "toc": {
   "base_numbering": 1,
   "nav_menu": {},
   "number_sections": true,
   "sideBar": true,
   "skip_h1_title": false,
   "title_cell": "Table of Contents",
   "title_sidebar": "Contents",
   "toc_cell": false,
   "toc_position": {},
   "toc_section_display": true,
   "toc_window_display": false
  }
 },
 "nbformat": 4,
 "nbformat_minor": 2
}
