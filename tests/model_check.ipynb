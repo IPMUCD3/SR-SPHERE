{
 "cells": [
  {
   "cell_type": "code",
   "execution_count": 1,
   "id": "4e10cbb0",
   "metadata": {},
   "outputs": [
    {
     "name": "stderr",
     "output_type": "stream",
     "text": [
      "/gpfs02/work/akira.tokiwa/gpgpu/anaconda3/envs/pylit/lib/python3.10/site-packages/tqdm/auto.py:22: TqdmWarning: IProgress not found. Please update jupyter and ipywidgets. See https://ipywidgets.readthedocs.io/en/stable/user_install.html\n",
      "  from .autonotebook import tqdm as notebook_tqdm\n"
     ]
    }
   ],
   "source": [
    "import sys\n",
    "import numpy as np\n",
    "import healpy as hp\n",
    "import matplotlib.pyplot as plt\n",
    "import pytorch_lightning as pl\n",
    "\n",
    "sys.path.append(\"/gpfs02/work/akira.tokiwa/gpgpu/Github/SR-SPHERE\")\n",
    "from scripts.diffusion.models.Unet_base import Unet\n",
    "from scripts.diffusion.DDPM import DDPM, TimestepSampler\n",
    "from scripts.maploader.datamodules import DataModule\n",
    "from scripts.utils.params import set_params\n",
    "from scripts.utils.run_utils import setup_trainer"
   ]
  },
  {
   "cell_type": "code",
   "execution_count": 12,
   "id": "e32b538f",
   "metadata": {},
   "outputs": [],
   "source": [
    "params= set_params(\n",
    "        n_maps=1,\n",
    "        nside=512,\n",
    "        order=8,\n",
    "        batch_size=4,\n",
    "        difference=True,\n",
    "        conditioning=\"concat\",\n",
    "        norm_type=\"batch\",\n",
    "        act_type=\"silu\",\n",
    "        use_attn=False,\n",
    "        mask=True,\n",
    "        scheduler=\"cosine\",\n",
    "        timesteps=2000,\n",
    "        log_name=\"test\",\n",
    "        )"
   ]
  },
  {
   "cell_type": "code",
   "execution_count": 13,
   "id": "8aa3e70f",
   "metadata": {},
   "outputs": [
    {
     "name": "stderr",
     "output_type": "stream",
     "text": [
      "[rank: 0] Global seed set to 1234\n"
     ]
    },
    {
     "name": "stdout",
     "output_type": "stream",
     "text": [
      "loading 1 maps in the directory.\n",
      "LR data loaded from /gpfs02/work/akira.tokiwa/gpgpu/Github/SR-SPHERE/data/nc128.  Number of maps: 1\n",
      "HR data loaded from /gpfs02/work/akira.tokiwa/gpgpu/Github/SR-SPHERE/data/nc256.  Number of maps: 1\n",
      "data divided into 768 patches.\n",
      "train:validation:test = 614:76:78, batch_size: 4\n"
     ]
    }
   ],
   "source": [
    "pl.seed_everything(1234)\n",
    "### get training data\n",
    "dm = DataModule(**params['data'])\n",
    "dm.setup()"
   ]
  },
  {
   "cell_type": "code",
   "execution_count": 14,
   "id": "188514f3",
   "metadata": {},
   "outputs": [
    {
     "name": "stdout",
     "output_type": "stream",
     "text": [
      "sampler type: uniform, timesteps: 2000\n"
     ]
    }
   ],
   "source": [
    "#get sampler type\n",
    "sampler = TimestepSampler(timesteps=params['diffusion']['timesteps'])"
   ]
  },
  {
   "cell_type": "code",
   "execution_count": 15,
   "id": "c0919472",
   "metadata": {},
   "outputs": [
    {
     "name": "stdout",
     "output_type": "stream",
     "text": [
      "We are using Adam with lr = 0.0001, gamma = 0.9999\n",
      "We are using mask with gaussian noise\n",
      "The schedule is cosine with s = 0.015\n"
     ]
    }
   ],
   "source": [
    "#get model\n",
    "unet = Unet(params['data'][\"nside\"], params['data'][\"order\"], **params['architecture'])\n",
    "model = DDPM(unet, sampler, **params['diffusion'])"
   ]
  },
  {
   "cell_type": "code",
   "execution_count": 16,
   "id": "7c18fa8d",
   "metadata": {},
   "outputs": [],
   "source": [
    "train_loader = dm.train_dataloader()\n",
    "val_loader = dm.val_dataloader()"
   ]
  },
  {
   "cell_type": "code",
   "execution_count": 17,
   "id": "c86c465e",
   "metadata": {},
   "outputs": [
    {
     "name": "stdout",
     "output_type": "stream",
     "text": [
      "data saved in /gpfs02/work/akira.tokiwa/gpgpu/Github/SR-SPHERE/ckpt_logs\n",
      "data name: test\n"
     ]
    },
    {
     "name": "stderr",
     "output_type": "stream",
     "text": [
      "/gpfs02/work/akira.tokiwa/gpgpu/anaconda3/envs/pylit/lib/python3.10/site-packages/lightning_fabric/plugins/environments/slurm.py:166: PossibleUserWarning: The `srun` command is available on your system but is not used. HINT: If your intention is to run Lightning on SLURM, prepend your python command with `srun` like so: srun python /gpfs02/work/akira.tokiwa/gpgpu/anaconda3/envs/pylit ...\n",
      "  rank_zero_warn(\n",
      "GPU available: True (cuda), used: True\n",
      "TPU available: False, using: 0 TPU cores\n",
      "IPU available: False, using: 0 IPUs\n",
      "HPU available: False, using: 0 HPUs\n",
      "/gpfs02/work/akira.tokiwa/gpgpu/anaconda3/envs/pylit/lib/python3.10/site-packages/lightning_fabric/plugins/environments/slurm.py:166: PossibleUserWarning: The `srun` command is available on your system but is not used. HINT: If your intention is to run Lightning on SLURM, prepend your python command with `srun` like so: srun python /gpfs02/work/akira.tokiwa/gpgpu/anaconda3/envs/pylit ...\n",
      "  rank_zero_warn(\n",
      "LOCAL_RANK: 0 - CUDA_VISIBLE_DEVICES: [6]\n",
      "\n",
      "  | Name  | Type | Params\n",
      "-------------------------------\n",
      "0 | model | Unet | 65.9 M\n",
      "-------------------------------\n",
      "65.9 M    Trainable params\n",
      "0         Non-trainable params\n",
      "65.9 M    Total params\n",
      "263.422   Total estimated model params size (MB)\n"
     ]
    },
    {
     "name": "stdout",
     "output_type": "stream",
     "text": [
      "Epoch 1:  25%|██▌       | 44/173 [00:33<01:36,  1.33it/s, loss=0.0672, v_num=5] "
     ]
    },
    {
     "name": "stderr",
     "output_type": "stream",
     "text": [
      "/gpfs02/work/akira.tokiwa/gpgpu/anaconda3/envs/pylit/lib/python3.10/site-packages/pytorch_lightning/trainer/call.py:48: UserWarning: Detected KeyboardInterrupt, attempting graceful shutdown...\n",
      "  rank_zero_warn(\"Detected KeyboardInterrupt, attempting graceful shutdown...\")\n"
     ]
    }
   ],
   "source": [
    "trainer = setup_trainer(**params['train'])\n",
    "trainer.fit(model, train_loader, val_loader)"
   ]
  },
  {
   "cell_type": "code",
   "execution_count": null,
   "id": "716e85c3",
   "metadata": {},
   "outputs": [],
   "source": []
  }
 ],
 "metadata": {
  "kernelspec": {
   "display_name": "Python 3 (ipykernel)",
   "language": "python",
   "name": "python3"
  },
  "language_info": {
   "codemirror_mode": {
    "name": "ipython",
    "version": 3
   },
   "file_extension": ".py",
   "mimetype": "text/x-python",
   "name": "python",
   "nbconvert_exporter": "python",
   "pygments_lexer": "ipython3",
   "version": "3.10.9"
  },
  "toc": {
   "base_numbering": 1,
   "nav_menu": {},
   "number_sections": true,
   "sideBar": true,
   "skip_h1_title": false,
   "title_cell": "Table of Contents",
   "title_sidebar": "Contents",
   "toc_cell": false,
   "toc_position": {},
   "toc_section_display": true,
   "toc_window_display": false
  }
 },
 "nbformat": 4,
 "nbformat_minor": 5
}
