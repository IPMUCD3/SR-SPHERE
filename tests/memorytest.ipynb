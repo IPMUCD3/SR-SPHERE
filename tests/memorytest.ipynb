{
 "cells": [
  {
   "cell_type": "code",
   "execution_count": 24,
   "id": "ae6cb059",
   "metadata": {
    "ExecuteTime": {
     "end_time": "2023-11-19T09:13:55.760722Z",
     "start_time": "2023-11-19T09:13:55.753814Z"
    }
   },
   "outputs": [],
   "source": [
    "import healpy as hp\n",
    "import torch\n",
    "from torch import tensor\n",
    "from glob import glob"
   ]
  },
  {
   "cell_type": "code",
   "execution_count": 19,
   "id": "67fe2bdd",
   "metadata": {
    "ExecuteTime": {
     "end_time": "2023-11-19T09:13:06.957272Z",
     "start_time": "2023-11-19T09:13:06.949243Z"
    }
   },
   "outputs": [],
   "source": [
    "def convert_to_native_byte_order(array):\n",
    "    if array.dtype.byteorder not in ('=', '|'):\n",
    "        return array.newbyteorder('=').byteswap(True)\n",
    "    return array"
   ]
  },
  {
   "cell_type": "code",
   "execution_count": 27,
   "id": "6d16dd89",
   "metadata": {
    "ExecuteTime": {
     "end_time": "2023-11-19T09:14:59.641380Z",
     "start_time": "2023-11-19T09:14:59.633734Z"
    }
   },
   "outputs": [],
   "source": [
    "def monitor_mem():\n",
    "    t = torch.cuda.get_device_properties(0).total_memory\n",
    "    a = torch.cuda.memory_allocated(0)\n",
    "    print(\"allocated memory:{0}MB, used {1:.1f}% of total\".format(a//1024**2, (a/t*100)))"
   ]
  },
  {
   "cell_type": "code",
   "execution_count": 20,
   "id": "32a7306f",
   "metadata": {
    "ExecuteTime": {
     "end_time": "2023-11-19T09:13:25.198931Z",
     "start_time": "2023-11-19T09:13:25.063656Z"
    }
   },
   "outputs": [],
   "source": [
    "map_path = sorted(glob('/gpfs02/work/akira.tokiwa/gpgpu/FastPM/healpix/nc256/*.fits'))[0]\n",
    "map_tmp=convert_to_native_byte_order(hp.read_map(map_path).reshape([1, -1, 1]))"
   ]
  },
  {
   "cell_type": "code",
   "execution_count": 28,
   "id": "cf9f6661",
   "metadata": {
    "ExecuteTime": {
     "end_time": "2023-11-19T09:15:08.335268Z",
     "start_time": "2023-11-19T09:15:08.304180Z"
    }
   },
   "outputs": [
    {
     "name": "stdout",
     "output_type": "stream",
     "text": [
      "allocated memory:24MB, used 0.2% of total\n"
     ]
    }
   ],
   "source": [
    "device = torch.device('cuda:0' if torch.cuda.is_available() else 'cpu')\n",
    "map_tensor = tensor(map_tmp, device=device)\n",
    "monitor_mem()"
   ]
  },
  {
   "cell_type": "code",
   "execution_count": null,
   "id": "e4fdada1",
   "metadata": {},
   "outputs": [],
   "source": []
  }
 ],
 "metadata": {
  "kernelspec": {
   "display_name": "Python 3 (ipykernel)",
   "language": "python",
   "name": "python3"
  },
  "language_info": {
   "codemirror_mode": {
    "name": "ipython",
    "version": 3
   },
   "file_extension": ".py",
   "mimetype": "text/x-python",
   "name": "python",
   "nbconvert_exporter": "python",
   "pygments_lexer": "ipython3",
   "version": "3.10.9"
  },
  "toc": {
   "base_numbering": 1,
   "nav_menu": {},
   "number_sections": true,
   "sideBar": true,
   "skip_h1_title": false,
   "title_cell": "Table of Contents",
   "title_sidebar": "Contents",
   "toc_cell": false,
   "toc_position": {},
   "toc_section_display": true,
   "toc_window_display": false
  }
 },
 "nbformat": 4,
 "nbformat_minor": 5
}
