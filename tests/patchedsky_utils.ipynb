{
 "cells": [
  {
   "cell_type": "code",
   "execution_count": 1,
   "metadata": {},
   "outputs": [],
   "source": [
    "import healpy as hp\n",
    "import numpy as np\n",
    "import matplotlib.pyplot as plt\n",
    "import torch.nn as nn\n",
    "from scripts.utils.cheby_shev import ChebConv"
   ]
  },
  {
   "cell_type": "code",
   "execution_count": 2,
   "metadata": {},
   "outputs": [],
   "source": [
    "nside = 512\n",
    "order = 4"
   ]
  },
  {
   "cell_type": "code",
   "execution_count": 3,
   "metadata": {},
   "outputs": [],
   "source": [
    "def nside2index(nside, order):\n",
    "    nsample = 12 * order**2\n",
    "    indexes = np.arange(hp.nside2npix(nside) // nsample)\n",
    "    return indexes"
   ]
  },
  {
   "cell_type": "code",
   "execution_count": 4,
   "metadata": {},
   "outputs": [],
   "source": [
    "def patch_index_wneighbor(nside, order):\n",
    "    indexes = list(nside2index(nside, order))\n",
    "    neighbors = hp.pixelfunc.get_all_neighbours(nside, indexes, nest=True)\n",
    "    neighbors = np.unique(neighbors.reshape(-1))\n",
    "    nei_patch = np.setdiff1d(neighbors, indexes)\n",
    "    return nei_patch"
   ]
  },
  {
   "cell_type": "code",
   "execution_count": 5,
   "metadata": {},
   "outputs": [],
   "source": [
    "l_nei_patch = {}\n",
    "for i in range(np.log2(nside).astype(int)):\n",
    "    tmp_patch_size = hp.nside2npix(nside)//hp.nside2npix(2**i)\n",
    "    l_nei_patch[tmp_patch_size] = len(patch_index_wneighbor(nside, 2**i))"
   ]
  },
  {
   "cell_type": "code",
   "execution_count": 9,
   "metadata": {},
   "outputs": [
    {
     "name": "stdout",
     "output_type": "stream",
     "text": [
      "4\n"
     ]
    }
   ],
   "source": [
    "print(hp.nside2npix(nside)//hp.nside2npix(2**8))"
   ]
  },
  {
   "cell_type": "code",
   "execution_count": 6,
   "metadata": {},
   "outputs": [
    {
     "name": "stdout",
     "output_type": "stream",
     "text": [
      "{262144: 2051, 65536: 1028, 16384: 516, 4096: 260, 1024: 132, 256: 68, 64: 36, 16: 20, 4: 12}\n"
     ]
    }
   ],
   "source": [
    "print(l_nei_patch)"
   ]
  },
  {
   "cell_type": "code",
   "execution_count": null,
   "metadata": {},
   "outputs": [],
   "source": [
    "class SphericalChebConv_pad(nn.Module):\n",
    "    def __init__(self, in_channels, out_channels, lap, pad_size, kernel_size):\n",
    "        super().__init__()\n",
    "        self.register_buffer(\"laplacian\", lap)\n",
    "        self.pad_size = pad_size\n",
    "        self.paddding = nn.ConstantPad1d(padding=(0,pad_size), value=0)\n",
    "        self.chebconv = ChebConv(in_channels, out_channels, kernel_size)\n",
    "\n",
    "    def state_dict(self, *args, **kwargs):\n",
    "        state_dict = super().state_dict(*args, **kwargs)\n",
    "        del_keys = []\n",
    "        for key in state_dict:\n",
    "            if key.endswith(\"laplacian\"):\n",
    "                del_keys.append(key)\n",
    "        for key in del_keys:\n",
    "            del state_dict[key]\n",
    "        return state_dict\n",
    "\n",
    "    def forward(self, x):\n",
    "        x = self.paddding(x)\n",
    "        x = self.chebconv(self.laplacian, x)\n",
    "        x = x[:, :-self.pad_size, :]\n",
    "        return x"
   ]
  }
 ],
 "metadata": {
  "kernelspec": {
   "display_name": "Python 3 (ipykernel)",
   "language": "python",
   "name": "python3"
  },
  "language_info": {
   "codemirror_mode": {
    "name": "ipython",
    "version": 3
   },
   "file_extension": ".py",
   "mimetype": "text/x-python",
   "name": "python",
   "nbconvert_exporter": "python",
   "pygments_lexer": "ipython3",
   "version": "3.10.9"
  }
 },
 "nbformat": 4,
 "nbformat_minor": 2
}
